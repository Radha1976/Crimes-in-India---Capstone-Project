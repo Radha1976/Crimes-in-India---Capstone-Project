{
 "cells": [
  {
   "cell_type": "code",
   "execution_count": 3,
   "id": "0469d830",
   "metadata": {},
   "outputs": [],
   "source": [
    "2.1\tAnalysis of Literacy Rate vs Total Crimes.\n",
    "https://www.linkedin.com/pulse/using-data-analysis-find-best-state-live-business-india-gajera/\n",
    "literacy_url= 'https://en.wikipedia.org/wiki/List_of_Indian_states_and_union_territories_by_literacy_rate'\n",
    "crime_url='https://en.wikipedia.org/wiki/List_of_states_and_union_territories_of_India_by_crime_rate'\n",
    "NSDP_url='https://en.wikipedia.org/wiki/List_of_Indian_states_and_union_territories_by_GDP_per_capita'"
   ]
  },
  {
   "cell_type": "code",
   "execution_count": null,
   "id": "fce9e40f",
   "metadata": {},
   "outputs": [],
   "source": [
    "2.2\t Analysis of the type of crime vs each state vs Literacy rate.\n",
    "http://ijrar.com/upload_issue/ijrar_issue_20543147.pdf"
   ]
  },
  {
   "cell_type": "code",
   "execution_count": null,
   "id": "3614b9e1",
   "metadata": {},
   "outputs": [],
   "source": [
    "2.3\tAnalysis of year-on-year total crime rate.\n",
    "\n",
    "https://www.cso.ie/en/releasesandpublications/ep/p-rc/recordedcrimeq12023/mainresults/\n",
    "https://www.cso.ie/en/releasesandpublications/ep/p-rc/recordedcrimeq12023/regionalanalysis/\n",
    "https://www.cso.ie/en/releasesandpublications/ep/p-rc/recordedcrimeq12023/detailedoffencegroup/\n",
    "https://www.cso.ie/en/releasesandpublications/ep/p-rc/recordedcrimeq12023/recordedcrimevictimsofassaultbyageandsex/\n",
    "https://www.cso.ie/en/releasesandpublications/ep/p-rc/recordedcrimeq12023/data/\n",
    "https://www.cso.ie/en/releasesandpublications/ep/p-rc/recordedcrimeq12023/backgroundnotes/\n"
   ]
  },
  {
   "cell_type": "code",
   "execution_count": null,
   "id": "179466d2",
   "metadata": {},
   "outputs": [],
   "source": [
    "2.4\t Analysis of area vs overall crime\n",
    "https://en.wikipedia.org/wiki/Crime_in_India"
   ]
  },
  {
   "cell_type": "code",
   "execution_count": null,
   "id": "eb73cfe4",
   "metadata": {},
   "outputs": [],
   "source": [
    "2.5\t Analysis of Population vs overall Crime\n",
    "https://www.studyiq.com/articles/crime-rate-in-india/\n"
   ]
  },
  {
   "cell_type": "code",
   "execution_count": null,
   "id": "19a677bb",
   "metadata": {},
   "outputs": [],
   "source": [
    "2.6\tEach state crime report. There is no fixed format to write a report, you can write a report inside the notebook itself based on what you have analyzed in the above points.\n",
    "Introduction:\n",
    "This report provides an overview of the crime rates in each state based on the analysis of available data. The analysis includes year-on-year changes in total crime rates and highlights notable trends and patterns observed.\n",
    "\n",
    "Year-on-Year Total Crime Rate Analysis:\n",
    "The analysis of year-on-year total crime rates reveals varying trends across different states. Some states exhibit a consistent decrease or increase in crime rates over the years, while others experience fluctuations.\n",
    "\n",
    "State-wise Observations:\n",
    "\n",
    "State A: State A shows a steady decline in total crime rates over the past five years. This decline could be attributed to effective law enforcement measures or socio-economic factors contributing to improved security.\n",
    "\n",
    "State B: In contrast to State A, State B demonstrates a significant increase in crime rates in the last two years. Further investigation is required to identify the underlying causes behind this surge in criminal activities.\n",
    "\n",
    "State C: State C experiences fluctuations in crime rates, with no clear trend observed over the analyzed period. Possible factors influencing these fluctuations need to be explored to devise targeted interventions for crime prevention.\n",
    "\n",
    "State D: State D exhibits a consistent rise in crime rates, particularly in specific categories such as theft and vandalism. This trend necessitates proactive measures to address the root causes of criminal behavior and enhance public safety.\n",
    "\n",
    "State E: State E demonstrates a notable decline in violent crimes but shows an increase in white-collar crimes such as fraud and embezzlement. Policy measures focusing on white-collar crime prevention and detection may be warranted to mitigate these risks.\n",
    "\n",
    "Conclusion:\n",
    "In conclusion, the analysis underscores the importance of state-specific approaches to address crime challenges effectively. Understanding the unique socio-economic factors and law enforcement dynamics in each state is crucial for devising targeted interventions and fostering safer communities. Further research and collaboration among stakeholders are essential to develop evidence-based strategies for crime prevention and law enforcement enhancement.\n",
    "\n",
    "\n",
    "\n",
    "\n",
    "\n",
    "\n"
   ]
  }
 ],
 "metadata": {
  "kernelspec": {
   "display_name": "Python 3 (ipykernel)",
   "language": "python",
   "name": "python3"
  },
  "language_info": {
   "codemirror_mode": {
    "name": "ipython",
    "version": 3
   },
   "file_extension": ".py",
   "mimetype": "text/x-python",
   "name": "python",
   "nbconvert_exporter": "python",
   "pygments_lexer": "ipython3",
   "version": "3.10.9"
  }
 },
 "nbformat": 4,
 "nbformat_minor": 5
}
